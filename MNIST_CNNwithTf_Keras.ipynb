{
  "nbformat": 4,
  "nbformat_minor": 0,
  "metadata": {
    "colab": {
      "name": "MNIST CNNwithTf_Keras.ipynb",
      "provenance": [],
      "collapsed_sections": [],
      "authorship_tag": "ABX9TyPGFpR7Locj44M+VvGSqkTx",
      "include_colab_link": true
    },
    "kernelspec": {
      "name": "python3",
      "display_name": "Python 3"
    }
  },
  "cells": [
    {
      "cell_type": "markdown",
      "metadata": {
        "id": "view-in-github",
        "colab_type": "text"
      },
      "source": [
        "<a href=\"https://colab.research.google.com/github/iamMchoi/MNIST/blob/master/MNIST_CNNwithTf_Keras.ipynb\" target=\"_parent\"><img src=\"https://colab.research.google.com/assets/colab-badge.svg\" alt=\"Open In Colab\"/></a>"
      ]
    },
    {
      "cell_type": "code",
      "metadata": {
        "id": "MnVMvQLmLdxH",
        "colab_type": "code",
        "outputId": "10dee82d-88d7-47ea-e1db-d61b1646b9c5",
        "colab": {
          "base_uri": "https://localhost:8080/",
          "height": 63
        }
      },
      "source": [
        "import tensorflow as tf\n",
        "import numpy as np\n",
        "from tensorflow.keras import layers\n",
        "import matplotlib.pyplot as plt"
      ],
      "execution_count": 1,
      "outputs": [
        {
          "output_type": "display_data",
          "data": {
            "text/html": [
              "<p style=\"color: red;\">\n",
              "The default version of TensorFlow in Colab will soon switch to TensorFlow 2.x.<br>\n",
              "We recommend you <a href=\"https://www.tensorflow.org/guide/migrate\" target=\"_blank\">upgrade</a> now \n",
              "or ensure your notebook will continue to use TensorFlow 1.x via the <code>%tensorflow_version 1.x</code> magic:\n",
              "<a href=\"https://colab.research.google.com/notebooks/tensorflow_version.ipynb\" target=\"_blank\">more info</a>.</p>\n"
            ],
            "text/plain": [
              "<IPython.core.display.HTML object>"
            ]
          },
          "metadata": {
            "tags": []
          }
        }
      ]
    },
    {
      "cell_type": "markdown",
      "metadata": {
        "id": "Z0AQD2syMkTQ",
        "colab_type": "text"
      },
      "source": [
        "## Initialize Data"
      ]
    },
    {
      "cell_type": "code",
      "metadata": {
        "id": "7jAMTyIHNW7D",
        "colab_type": "code",
        "colab": {
          "base_uri": "https://localhost:8080/",
          "height": 51
        },
        "outputId": "078e6b3e-4c09-4e1e-c5e9-2cc7064201ba"
      },
      "source": [
        "#Read Data from Keras\n",
        "from tensorflow import keras\n",
        "(x_train, y_train), (x_test, y_test) = keras.datasets.mnist.load_data()"
      ],
      "execution_count": 2,
      "outputs": [
        {
          "output_type": "stream",
          "text": [
            "Downloading data from https://storage.googleapis.com/tensorflow/tf-keras-datasets/mnist.npz\n",
            "11493376/11490434 [==============================] - 0s 0us/step\n"
          ],
          "name": "stdout"
        }
      ]
    },
    {
      "cell_type": "code",
      "metadata": {
        "id": "DoRopLvSNo-d",
        "colab_type": "code",
        "outputId": "21ce1d92-0da2-4b4c-f160-4d7d5b204579",
        "colab": {
          "base_uri": "https://localhost:8080/",
          "height": 316
        }
      },
      "source": [
        "print(\"x_train data: \", x_train.shape,\"y_train data:\", y_train.shape)\n",
        "print(\"x_test data: \", x_test.shape,\"y_test data:\", y_test.shape)\n",
        "\n",
        "plt.imshow(x_train[0])"
      ],
      "execution_count": 3,
      "outputs": [
        {
          "output_type": "stream",
          "text": [
            "x_train data:  (60000, 28, 28) y_train data: (60000,)\n",
            "x_test data:  (10000, 28, 28) y_test data: (10000,)\n"
          ],
          "name": "stdout"
        },
        {
          "output_type": "execute_result",
          "data": {
            "text/plain": [
              "<matplotlib.image.AxesImage at 0x7f06f12b8fd0>"
            ]
          },
          "metadata": {
            "tags": []
          },
          "execution_count": 3
        },
        {
          "output_type": "display_data",
          "data": {
            "image/png": "[encoded data removed]",
            "text/plain": [
              "<Figure size 432x288 with 1 Axes>"
            ]
          },
          "metadata": {
            "tags": []
          }
        }
      ]
    },
    {
      "cell_type": "code",
      "metadata": {
        "id": "fjhvVw2bLn_t",
        "colab_type": "code",
        "colab": {}
      },
      "source": [
        "# Preprocess the data (these are Numpy arrays)\n",
        "x_train = x_train.reshape(-1,28,28,1).astype('float32') / 255.   #image size(28x28), 1 channel : gray\n",
        "x_test = x_test.reshape(-1,28,28,1).astype('float32') / 255.\n",
        "\n",
        "y_train = y_train.astype('float32')\n",
        "y_test = y_test.astype('float32')"
      ],
      "execution_count": 0,
      "outputs": []
    },
    {
      "cell_type": "markdown",
      "metadata": {
        "id": "DThbt_auMg39",
        "colab_type": "text"
      },
      "source": [
        "##Build Model"
      ]
    },
    {
      "cell_type": "code",
      "metadata": {
        "id": "D_fb9q9eMmnr",
        "colab_type": "code",
        "outputId": "aae98f73-d909-403a-ea9d-92967839990d",
        "colab": {
          "base_uri": "https://localhost:8080/",
          "height": 462
        }
      },
      "source": [
        "model = tf.keras.Sequential()\n",
        "\n",
        "model.add(layers.Conv2D(128,(3,3),activation='relu',input_shape=x_train.shape[1:],data_format=\"channels_last\"))\n",
        "model.add(layers.MaxPooling2D(pool_size=(2, 2)))\n",
        "\n",
        "model.add(layers.Conv2D(256, (3, 3), activation=tf.nn.relu))\n",
        "model.add(layers.MaxPooling2D(pool_size=(2, 2)))\n",
        "\n",
        "model.add(layers.Flatten())  \n",
        "model.add(layers.Dense(128, activation='relu'))\n",
        "model.add(layers.Dense(10))\n",
        "model.summary()"
      ],
      "execution_count": 5,
      "outputs": [
        {
          "output_type": "stream",
          "text": [
            "WARNING:tensorflow:From /tensorflow-1.15.0/python3.6/tensorflow_core/python/ops/resource_variable_ops.py:1630: calling BaseResourceVariable.__init__ (from tensorflow.python.ops.resource_variable_ops) with constraint is deprecated and will be removed in a future version.\n",
            "Instructions for updating:\n",
            "If using Keras pass *_constraint arguments to layers.\n",
            "Model: \"sequential\"\n",
            "_________________________________________________________________\n",
            "Layer (type)                 Output Shape              Param #   \n",
            "=================================================================\n",
            "conv2d (Conv2D)              (None, 26, 26, 128)       1280      \n",
            "_________________________________________________________________\n",
            "max_pooling2d (MaxPooling2D) (None, 13, 13, 128)       0         \n",
            "_________________________________________________________________\n",
            "conv2d_1 (Conv2D)            (None, 11, 11, 256)       295168    \n",
            "_________________________________________________________________\n",
            "max_pooling2d_1 (MaxPooling2 (None, 5, 5, 256)         0         \n",
            "_________________________________________________________________\n",
            "flatten (Flatten)            (None, 6400)              0         \n",
            "_________________________________________________________________\n",
            "dense (Dense)                (None, 128)               819328    \n",
            "_________________________________________________________________\n",
            "dense_1 (Dense)              (None, 10)                1290      \n",
            "=================================================================\n",
            "Total params: 1,117,066\n",
            "Trainable params: 1,117,066\n",
            "Non-trainable params: 0\n",
            "_________________________________________________________________\n"
          ],
          "name": "stdout"
        }
      ]
    },
    {
      "cell_type": "code",
      "metadata": {
        "id": "BFe6l9YjQqAH",
        "colab_type": "code",
        "outputId": "563b94f6-9859-49e4-a668-ead5f02ab0f2",
        "colab": {
          "base_uri": "https://localhost:8080/",
          "height": 170
        }
      },
      "source": [
        "model.compile(loss=keras.losses.SparseCategoricalCrossentropy(from_logits=True),optimizer='adam', metrics=['accuracy'])\n",
        "#optimizer=keras.optimizers.RMSprop(learning_rate=1e-3), #optimizer=tf.keras.optimizers.Adam(0.01), \n",
        "history =model.fit(x_train, y_train, epochs=4, batch_size=64,  validation_split=0.2)  ### callbacks is for TensorBoard : callbacks=[tbCallBack]) "
      ],
      "execution_count": 6,
      "outputs": [
        {
          "output_type": "stream",
          "text": [
            "Train on 48000 samples, validate on 12000 samples\n",
            "Epoch 1/4\n",
            "48000/48000 [==============================] - 273s 6ms/sample - loss: 0.1279 - acc: 0.9603 - val_loss: 0.0639 - val_acc: 0.9815\n",
            "Epoch 2/4\n",
            "48000/48000 [==============================] - 274s 6ms/sample - loss: 0.0409 - acc: 0.9870 - val_loss: 0.0417 - val_acc: 0.9883\n",
            "Epoch 3/4\n",
            "48000/48000 [==============================] - 275s 6ms/sample - loss: 0.0250 - acc: 0.9919 - val_loss: 0.0385 - val_acc: 0.9894\n",
            "Epoch 4/4\n",
            "48000/48000 [==============================] - 276s 6ms/sample - loss: 0.0179 - acc: 0.9940 - val_loss: 0.0413 - val_acc: 0.9907\n"
          ],
          "name": "stdout"
        }
      ]
    },
    {
      "cell_type": "code",
      "metadata": {
        "id": "puv0TbDxggUe",
        "colab_type": "code",
        "colab": {}
      },
      "source": [
        "#tensorboard_cbk = keras.callbacks.TensorBoard(log_dir='/full_path_to_your_logs')\n",
        "#model.fit(dataset, epochs=10, callbacks=[tensorboard_cbk])"
      ],
      "execution_count": 0,
      "outputs": []
    },
    {
      "cell_type": "code",
      "metadata": {
        "id": "-p0BRxgDRjKq",
        "colab_type": "code",
        "outputId": "b806740c-16d3-4294-94c1-bbce53469787",
        "colab": {
          "base_uri": "https://localhost:8080/",
          "height": 573
        }
      },
      "source": [
        "# Plot training & validation accuracy values\n",
        "plt.plot(history.history['acc'])\n",
        "plt.plot(history.history['val_acc'])\n",
        "plt.title('Model accuracy')\n",
        "plt.ylabel('Accuracy')\n",
        "plt.xlabel('Epoch')\n",
        "plt.legend(['Train', 'Test'], loc='upper left')\n",
        "plt.show()\n",
        "\n",
        "# Plot training & validation loss values\n",
        "plt.plot(history.history['loss'])\n",
        "plt.plot(history.history['val_loss'])\n",
        "plt.title('Model loss')\n",
        "plt.ylabel('Loss')\n",
        "plt.xlabel('Epoch')\n",
        "plt.legend(['Train', 'Test'], loc='upper left')\n",
        "plt.show()"
      ],
      "execution_count": 8,
      "outputs": [
        {
          "output_type": "display_data",
          "data": {
            "image/png": "[encoded data removed]",
            "text/plain": [
              "<Figure size 432x288 with 1 Axes>"
            ]
          },
          "metadata": {
            "tags": []
          }
        },
        {
          "output_type": "display_data",
          "data": {
            "image/png": "[encoded data removed]",
            "text/plain": [
              "<Figure size 432x288 with 1 Axes>"
            ]
          },
          "metadata": {
            "tags": []
          }
        }
      ]
    },
    {
      "cell_type": "markdown",
      "metadata": {
        "id": "We6aN-FLScEv",
        "colab_type": "text"
      },
      "source": [
        "## Save the model and Load the model"
      ]
    },
    {
      "cell_type": "code",
      "metadata": {
        "id": "IzJQDZHqgZwY",
        "colab_type": "code",
        "colab": {}
      },
      "source": [
        "## Mount Google drive before save the model\n",
        "#from google.colab import drive\n",
        "#drive.mount('/content/drive/')\n",
        "\n",
        "## Save weights to a TensorFlow Checkpoint file\n",
        "#DATA_PATH = \"/content/drive/My Drive/Colab Notebooks/\"\n",
        "#model.save(DATA_PATH+\"256_CNN.model\")\n",
        "\n",
        "## Load the Model\n",
        "#model = tf.keras.models.load_model(DATA_PATH+\"256_CNN.model\")"
      ],
      "execution_count": 0,
      "outputs": []
    }
  ]
}