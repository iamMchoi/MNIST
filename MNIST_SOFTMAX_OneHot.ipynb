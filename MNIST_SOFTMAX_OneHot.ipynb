{
  "nbformat": 4,
  "nbformat_minor": 0,
  "metadata": {
    "colab": {
      "name": "MNIST_SOFTMAX OneHot",
      "provenance": [],
      "collapsed_sections": [],
      "authorship_tag": "ABX9TyPNTSuNyn1Zb+a3mWGHEoM2",
      "include_colab_link": true
    },
    "kernelspec": {
      "name": "python3",
      "display_name": "Python 3"
    }
  },
  "cells": [
    {
      "cell_type": "markdown",
      "metadata": {
        "id": "view-in-github",
        "colab_type": "text"
      },
      "source": [
        "<a href=\"https://colab.research.google.com/github/iamMchoi/MNIST/blob/master/MNIST_SOFTMAX_OneHot.ipynb\" target=\"_parent\"><img src=\"https://colab.research.google.com/assets/colab-badge.svg\" alt=\"Open In Colab\"/></a>"
      ]
    },
    {
      "cell_type": "code",
      "metadata": {
        "id": "AqyR3CNtA7-2",
        "colab_type": "code",
        "outputId": "72ad494d-e604-406a-bf61-85a660aadbdc",
        "colab": {
          "base_uri": "https://localhost:8080/",
          "height": 63
        }
      },
      "source": [
        "import tensorflow as tf\n",
        "import numpy as np"
      ],
      "execution_count": 1,
      "outputs": [
        {
          "output_type": "display_data",
          "data": {
            "text/html": [
              "<p style=\"color: red;\">\n",
              "The default version of TensorFlow in Colab will soon switch to TensorFlow 2.x.<br>\n",
              "We recommend you <a href=\"https://www.tensorflow.org/guide/migrate\" target=\"_blank\">upgrade</a> now \n",
              "or ensure your notebook will continue to use TensorFlow 1.x via the <code>%tensorflow_version 1.x</code> magic:\n",
              "<a href=\"https://colab.research.google.com/notebooks/tensorflow_version.ipynb\" target=\"_blank\">more info</a>.</p>\n"
            ],
            "text/plain": [
              "<IPython.core.display.HTML object>"
            ]
          },
          "metadata": {
            "tags": []
          }
        }
      ]
    },
    {
      "cell_type": "markdown",
      "metadata": {
        "id": "ttoWMwPJmfBF",
        "colab_type": "text"
      },
      "source": [
        "## Initialize Data"
      ]
    },
    {
      "cell_type": "code",
      "metadata": {
        "id": "W7dOZnz3Pw3h",
        "colab_type": "code",
        "colab": {}
      },
      "source": [
        "#Read Data from Keras\n",
        "from tensorflow import keras\n",
        "\n",
        "(x_train, y_train), (x_test, y_test) = keras.datasets.mnist.load_data()"
      ],
      "execution_count": 0,
      "outputs": []
    },
    {
      "cell_type": "code",
      "metadata": {
        "id": "qCEokwz7pPQm",
        "colab_type": "code",
        "colab": {
          "base_uri": "https://localhost:8080/",
          "height": 51
        },
        "outputId": "bcb12979-c1cf-461d-c391-bb80ee59e98b"
      },
      "source": [
        "print(\"x_train data: \", x_train.shape,\"y_train data:\", y_train.shape)\n",
        "print(\"x_test data: \", x_test.shape,\"y_test data:\", y_test.shape)"
      ],
      "execution_count": 3,
      "outputs": [
        {
          "output_type": "stream",
          "text": [
            "x_train data:  (60000, 28, 28) y_train data: (60000,)\n",
            "x_test data:  (10000, 28, 28) y_test data: (10000,)\n"
          ],
          "name": "stdout"
        }
      ]
    },
    {
      "cell_type": "code",
      "metadata": {
        "id": "x4cRFNshP1kj",
        "colab_type": "code",
        "colab": {}
      },
      "source": [
        "# building the input vector from the 28x28 pixels\n",
        "X_train = x_train.reshape(-1, 784).astype('float32')\n",
        "X_test = x_test.reshape(-1, 784).astype('float32')\n",
        "\n",
        "# normalizing the data to help with the training\n",
        "X_train /= 255.\n",
        "X_test /= 255."
      ],
      "execution_count": 0,
      "outputs": []
    },
    {
      "cell_type": "code",
      "metadata": {
        "id": "cRG0Q3VeQFSw",
        "colab_type": "code",
        "outputId": "1cc1dc99-58c7-49cb-8df3-bf37d63f1c26",
        "colab": {
          "base_uri": "https://localhost:8080/",
          "height": 68
        }
      },
      "source": [
        "# one-hot encoding using keras' numpy-related utilities\n",
        "from keras.utils import np_utils\n",
        "\n",
        "n_classes = 10\n",
        "print(\"Shape before one-hot encoding: \", y_train.shape)\n",
        "Y_train = np_utils.to_categorical(y_train, n_classes)\n",
        "Y_test = np_utils.to_categorical(y_test, n_classes)\n",
        "print(\"Shape after one-hot encoding: \", Y_train.shape)"
      ],
      "execution_count": 5,
      "outputs": [
        {
          "output_type": "stream",
          "text": [
            "Shape before one-hot encoding:  (60000,)\n",
            "Shape after one-hot encoding:  (60000, 10)\n"
          ],
          "name": "stdout"
        },
        {
          "output_type": "stream",
          "text": [
            "Using TensorFlow backend.\n"
          ],
          "name": "stderr"
        }
      ]
    },
    {
      "cell_type": "markdown",
      "metadata": {
        "id": "ZvgYpSmBnfEd",
        "colab_type": "text"
      },
      "source": [
        "##Build Model"
      ]
    },
    {
      "cell_type": "code",
      "metadata": {
        "id": "ceoKX0oSBJSD",
        "colab_type": "code",
        "colab": {}
      },
      "source": [
        "# Create model\n",
        "x = tf.placeholder(tf.float32, [None, 784])\n",
        "w = tf.Variable(tf.zeros([784, 10]))\n",
        "b = tf.Variable(tf.zeros([10]))\n",
        "logits = tf.matmul(x, w) + b\n",
        "hy = tf.nn.softmax(logits)"
      ],
      "execution_count": 0,
      "outputs": []
    },
    {
      "cell_type": "code",
      "metadata": {
        "id": "iASGtfMzDjYY",
        "colab_type": "code",
        "colab": {}
      },
      "source": [
        "# Define, loss optimzer\n",
        "y = tf.placeholder(tf.float32, [None, 10])\n",
        "learning_rate = 0.5\n",
        "\n",
        "cost = tf.reduce_mean(tf.nn.softmax_cross_entropy_with_logits_v2(logits=logits, labels=y))\n",
        "opt = tf.train.GradientDescentOptimizer(learning_rate).minimize(cost)"
      ],
      "execution_count": 0,
      "outputs": []
    },
    {
      "cell_type": "code",
      "metadata": {
        "id": "PlY82TIVTikP",
        "colab_type": "code",
        "colab": {}
      },
      "source": [
        "prediction = tf.argmax(hy, 1)\n",
        "correct_prediction = tf.equal(prediction, tf.argmax(y, 1))\n",
        "accuracy = tf.reduce_mean(tf.cast(correct_prediction, tf.float32))"
      ],
      "execution_count": 0,
      "outputs": []
    },
    {
      "cell_type": "code",
      "metadata": {
        "id": "csF_z0yZGRMx",
        "colab_type": "code",
        "colab": {}
      },
      "source": [
        "sess = tf.Session()\n",
        "sess.run(tf.global_variables_initializer())"
      ],
      "execution_count": 0,
      "outputs": []
    },
    {
      "cell_type": "code",
      "metadata": {
        "id": "nBHjIIgARZEI",
        "colab_type": "code",
        "outputId": "525d954c-0dbd-41fa-ecce-355acf527215",
        "colab": {
          "base_uri": "https://localhost:8080/",
          "height": 204
        }
      },
      "source": [
        "for step in range(1001):\n",
        "  sess.run(opt, feed_dict={x: X_train, y: Y_train})\n",
        "  if step % 100 == 0:\n",
        "    loss, acc = sess.run([cost, accuracy], feed_dict={x: X_train, y: Y_train})\n",
        "    print(\"Step: {:5}\\t Loss: {:.3f}\\tAcc: {:.2%}\".format( step, loss, acc))\n"
      ],
      "execution_count": 10,
      "outputs": [
        {
          "output_type": "stream",
          "text": [
            "Step:     0\t Loss: 1.832\tAcc: 67.24%\n",
            "Step:   100\t Loss: 0.392\tAcc: 89.49%\n",
            "Step:   200\t Loss: 0.347\tAcc: 90.44%\n",
            "Step:   300\t Loss: 0.326\tAcc: 90.97%\n",
            "Step:   400\t Loss: 0.314\tAcc: 91.28%\n",
            "Step:   500\t Loss: 0.306\tAcc: 91.55%\n",
            "Step:   600\t Loss: 0.299\tAcc: 91.70%\n",
            "Step:   700\t Loss: 0.294\tAcc: 91.82%\n",
            "Step:   800\t Loss: 0.290\tAcc: 91.93%\n",
            "Step:   900\t Loss: 0.287\tAcc: 92.01%\n",
            "Step:  1000\t Loss: 0.284\tAcc: 92.12%\n"
          ],
          "name": "stdout"
        }
      ]
    }
  ]
}