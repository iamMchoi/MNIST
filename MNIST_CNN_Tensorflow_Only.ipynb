{
  "nbformat": 4,
  "nbformat_minor": 0,
  "metadata": {
    "colab": {
      "name": "MNIST CNN Tensorflow Only.ipynb",
      "provenance": [],
      "collapsed_sections": [],
      "machine_shape": "hm",
      "include_colab_link": true
    },
    "kernelspec": {
      "name": "python3",
      "display_name": "Python 3"
    }
  },
  "cells": [
    {
      "cell_type": "markdown",
      "metadata": {
        "id": "view-in-github",
        "colab_type": "text"
      },
      "source": [
        "<a href=\"https://colab.research.google.com/github/iamMchoi/MNIST/blob/master/MNIST_CNN_Tensorflow_Only.ipynb\" target=\"_parent\"><img src=\"https://colab.research.google.com/assets/colab-badge.svg\" alt=\"Open In Colab\"/></a>"
      ]
    },
    {
      "cell_type": "code",
      "metadata": {
        "id": "SxVQRVRt7je_",
        "colab_type": "code",
        "outputId": "8717a594-4d9b-44f4-c48b-2067e4abac26",
        "colab": {
          "base_uri": "https://localhost:8080/",
          "height": 63
        }
      },
      "source": [
        "import tensorflow as tf\n",
        "import numpy as np\n",
        "import matplotlib.pyplot as plt\n"
      ],
      "execution_count": 1,
      "outputs": [
        {
          "output_type": "display_data",
          "data": {
            "text/html": [
              "<p style=\"color: red;\">\n",
              "The default version of TensorFlow in Colab will soon switch to TensorFlow 2.x.<br>\n",
              "We recommend you <a href=\"https://www.tensorflow.org/guide/migrate\" target=\"_blank\">upgrade</a> now \n",
              "or ensure your notebook will continue to use TensorFlow 1.x via the <code>%tensorflow_version 1.x</code> magic:\n",
              "<a href=\"https://colab.research.google.com/notebooks/tensorflow_version.ipynb\" target=\"_blank\">more info</a>.</p>\n"
            ],
            "text/plain": [
              "<IPython.core.display.HTML object>"
            ]
          },
          "metadata": {
            "tags": []
          }
        }
      ]
    },
    {
      "cell_type": "markdown",
      "metadata": {
        "id": "fAw8BpfIqJoy",
        "colab_type": "text"
      },
      "source": [
        "##Initialize Data"
      ]
    },
    {
      "cell_type": "code",
      "metadata": {
        "id": "pLPFDR6tqPfm",
        "colab_type": "code",
        "colab": {}
      },
      "source": [
        "#Read Data from Keras\n",
        "from tensorflow import keras\n",
        "\n",
        "(x_train, y_train), (x_test, y_test) = keras.datasets.mnist.load_data()"
      ],
      "execution_count": 0,
      "outputs": []
    },
    {
      "cell_type": "code",
      "metadata": {
        "id": "quH1aC2FVMBC",
        "colab_type": "code",
        "outputId": "89b7d527-d666-4817-df65-669b52c12e06",
        "colab": {
          "base_uri": "https://localhost:8080/",
          "height": 265
        }
      },
      "source": [
        "#Disaply one data\n",
        "plt.imshow(x_train[0,:,:], cmap=plt.cm.binary)  \n",
        "plt.show()  "
      ],
      "execution_count": 3,
      "outputs": [
        {
          "output_type": "display_data",
          "data": {
            "image/png": "[encoded data removed]",
            "text/plain": [
              "<Figure size 432x288 with 1 Axes>"
            ]
          },
          "metadata": {
            "tags": []
          }
        }
      ]
    },
    {
      "cell_type": "markdown",
      "metadata": {
        "id": "CgzUC5AcOhyG",
        "colab_type": "text"
      },
      "source": [
        "Note that to make this comparable to the call being replaced, you might have to add a X = X.reshape((-1, 28 * 28)) on the images, and a y_one_hot = np.zeros((y.shape[0], 10)); y_one_hot[np.arange(y.shape[0]), y] = 1 to get one-hot labels out. "
      ]
    },
    {
      "cell_type": "code",
      "metadata": {
        "id": "XSOfGA3RZuqS",
        "colab_type": "code",
        "colab": {}
      },
      "source": [
        "# Preprocess the data  - Change shape & Normalize pixel values to be between 0 and 1\n",
        "x_train = x_train.reshape(-1,28,28,1).astype('float32') / 255.   #image size(28x28), 1 channel : gray\n",
        "x_test = x_test.reshape(-1,28,28,1).astype('float32') / 255."
      ],
      "execution_count": 0,
      "outputs": []
    },
    {
      "cell_type": "code",
      "metadata": {
        "id": "rIARSQphs1Yr",
        "colab_type": "code",
        "colab": {
          "base_uri": "https://localhost:8080/",
          "height": 68
        },
        "outputId": "a3464d79-65b5-4cd5-ed03-8393bbb92407"
      },
      "source": [
        "# one-hot encoding using keras' numpy-related utilities\n",
        "from keras.utils import np_utils\n",
        "\n",
        "n_classes = 10\n",
        "print(\"Shape before one-hot encoding: \", y_train.shape)\n",
        "y_train = np_utils.to_categorical(y_train, n_classes)\n",
        "y_test = np_utils.to_categorical(y_test, n_classes)\n",
        "print(\"Shape after one-hot encoding: \", y_train.shape)"
      ],
      "execution_count": 5,
      "outputs": [
        {
          "output_type": "stream",
          "text": [
            "Shape before one-hot encoding:  (60000,)\n",
            "Shape after one-hot encoding:  (60000, 10)\n"
          ],
          "name": "stdout"
        },
        {
          "output_type": "stream",
          "text": [
            "Using TensorFlow backend.\n"
          ],
          "name": "stderr"
        }
      ]
    },
    {
      "cell_type": "markdown",
      "metadata": {
        "id": "FuRojRRHrfoY",
        "colab_type": "text"
      },
      "source": [
        "##Build Model"
      ]
    },
    {
      "cell_type": "code",
      "metadata": {
        "id": "m5x72Gp_OIn9",
        "colab_type": "code",
        "colab": {}
      },
      "source": [
        "# First Convolution Layer\n",
        "num_filter1 = 32\n",
        "filter1shape = [4,4,1,num_filter1]\n",
        "\n",
        "x = tf.placeholder(tf.float32, [None, 28,28,1])\n",
        "\n",
        "w1 = tf.Variable(tf.truncated_normal(filter1shape, stddev=0.1))\n",
        "b1 = tf.Variable(tf.constant(0.1, shape=[num_filter1]))\n",
        "hy1 = tf.nn.conv2d(x, w1 , strides=[1,1,1,1] , padding='SAME')\n",
        "\n",
        "af1 = tf.nn.relu(hy1 + b1)\n",
        "pool1 = tf.nn.max_pool(af1, ksize=[1,2,2,1], strides=[1,2,2,1], padding='SAME')"
      ],
      "execution_count": 0,
      "outputs": []
    },
    {
      "cell_type": "code",
      "metadata": {
        "id": "3-uTT3vNaBQ8",
        "colab_type": "code",
        "colab": {}
      },
      "source": [
        "# Second Convolution Layer\n",
        "num_filter2 = 64\n",
        "filter2shape = [4,4,num_filter1,num_filter2]\n",
        "\n",
        "w2 = tf.Variable(tf.truncated_normal(filter2shape,stddev=0.1))\n",
        "b2 = tf.Variable(tf.constant(0.1, shape=[num_filter2]))\n",
        "hy2 = tf.nn.conv2d(pool1, w2, strides=[1,1,1,1], padding='SAME' )\n",
        "\n",
        "af2 = tf.nn.relu(hy2+b2)\n",
        "pool2 = tf.nn.max_pool(af2, ksize=[1,2,2,1], strides=[1,2,2,1], padding='SAME')\n"
      ],
      "execution_count": 0,
      "outputs": []
    },
    {
      "cell_type": "code",
      "metadata": {
        "id": "kiT42M3wfI5o",
        "colab_type": "code",
        "colab": {}
      },
      "source": [
        "#Fully Connected Layer\n",
        "pool2_flat = tf.reshape(pool2, [-1,7*7*num_filter2])\n",
        "\n",
        "num_units1 = 7*7*num_filter2\n",
        "num_units2 = 1024\n",
        "\n",
        "#First layer of FNN \n",
        "w3 = tf.Variable(tf.truncated_normal([num_units1, num_units2]))\n",
        "b3 = tf.Variable(tf.constant(0.1, shape=[num_units2]))\n",
        "hy3 = tf.nn.relu(tf.matmul(pool2_flat, w3) + b3)\n",
        "\n",
        "hy3_drop = tf.keras.layers.Dropout(rate=0.2)(hy3)\n",
        "\n",
        "#Second layer of FNN - 10 for One Hot incording\n",
        "w0 = tf.Variable(tf.random_normal([num_units2, 10]))\n",
        "b0 = tf.Variable(tf.random_normal([10]))\n",
        "k = tf.matmul(hy3_drop, w0) + b0\n",
        "hy = tf.nn.softmax(k)\n"
      ],
      "execution_count": 0,
      "outputs": []
    },
    {
      "cell_type": "code",
      "metadata": {
        "id": "3l9X89mQhu4_",
        "colab_type": "code",
        "colab": {}
      },
      "source": [
        "#define loss (cost) function\n",
        "y = tf.placeholder(tf.float32, [None, 10])\n",
        "learning_rate = 0.01\n",
        "\n",
        "cost = tf.reduce_mean(tf.nn.softmax_cross_entropy_with_logits_v2(logits=k, labels=y)) \n",
        "opt = tf.train.AdamOptimizer(learning_rate).minimize(cost)"
      ],
      "execution_count": 0,
      "outputs": []
    },
    {
      "cell_type": "code",
      "metadata": {
        "id": "94Of51GttPx1",
        "colab_type": "code",
        "colab": {}
      },
      "source": [
        "prediction = tf.argmax(hy, 1)\n",
        "correct_prediction = tf.equal(prediction, tf.argmax(y, 1))\n",
        "accuracy = tf.reduce_mean(tf.cast(correct_prediction, tf.float32))"
      ],
      "execution_count": 0,
      "outputs": []
    },
    {
      "cell_type": "code",
      "metadata": {
        "id": "UiV76WaMs6rP",
        "colab_type": "code",
        "colab": {}
      },
      "source": [
        "# Prepare session\n",
        "sess = tf.Session()\n",
        "sess.run(tf.global_variables_initializer())"
      ],
      "execution_count": 0,
      "outputs": []
    },
    {
      "cell_type": "code",
      "metadata": {
        "id": "cj_9PaTNh9O4",
        "colab_type": "code",
        "colab": {
          "base_uri": "https://localhost:8080/",
          "height": 102
        },
        "outputId": "2032983f-58ce-41e5-e3cc-9efbdc45d6d7"
      },
      "source": [
        "for step in range(5):\n",
        "  sess.run(opt, feed_dict={x: x_train, y: y_train})\n",
        "  #if step % 1 == 0:\n",
        "  loss, acc = sess.run([cost, accuracy], feed_dict={x: x_train, y: y_train})\n",
        "  print(\"Step: {:5}\\t Loss: {:.3f}\\tAcc: {:.2%}\".format( step, loss, acc))"
      ],
      "execution_count": 12,
      "outputs": [
        {
          "output_type": "stream",
          "text": [
            "Step:     0\t Loss: 1627.255\tAcc: 10.58%\n",
            "Step:     1\t Loss: 1759.215\tAcc: 14.49%\n",
            "Step:     2\t Loss: 1571.634\tAcc: 13.12%\n",
            "Step:     3\t Loss: 1226.097\tAcc: 10.44%\n",
            "Step:     4\t Loss: 679.704\tAcc: 9.93%\n"
          ],
          "name": "stdout"
        }
      ]
    }
  ]
}