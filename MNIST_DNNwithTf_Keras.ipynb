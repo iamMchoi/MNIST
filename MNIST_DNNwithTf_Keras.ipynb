{
  "nbformat": 4,
  "nbformat_minor": 0,
  "metadata": {
    "colab": {
      "name": "MNIST_DNNwithTf_Keras.ipynb",
      "provenance": [],
      "collapsed_sections": [],
      "authorship_tag": "ABX9TyPqPIyF7s/Qnm5OgdP4EHWy",
      "include_colab_link": true
    },
    "kernelspec": {
      "name": "python3",
      "display_name": "Python 3"
    }
  },
  "cells": [
    {
      "cell_type": "markdown",
      "metadata": {
        "id": "view-in-github",
        "colab_type": "text"
      },
      "source": [
        "<a href=\"https://colab.research.google.com/github/iamMchoi/MNIST/blob/master/MNIST_DNNwithTf_Keras.ipynb\" target=\"_parent\"><img src=\"https://colab.research.google.com/assets/colab-badge.svg\" alt=\"Open In Colab\"/></a>"
      ]
    },
    {
      "cell_type": "code",
      "metadata": {
        "id": "ONfhbdHmgyAj",
        "colab_type": "code",
        "outputId": "114aec9c-12a6-4397-ebb0-37c3c359dd94",
        "colab": {
          "base_uri": "https://localhost:8080/",
          "height": 63
        }
      },
      "source": [
        "import tensorflow as tf\n",
        "from tensorflow.keras import layers\n",
        "\n",
        "import matplotlib.pyplot as plt"
      ],
      "execution_count": 1,
      "outputs": [
        {
          "output_type": "display_data",
          "data": {
            "text/html": [
              "<p style=\"color: red;\">\n",
              "The default version of TensorFlow in Colab will soon switch to TensorFlow 2.x.<br>\n",
              "We recommend you <a href=\"https://www.tensorflow.org/guide/migrate\" target=\"_blank\">upgrade</a> now \n",
              "or ensure your notebook will continue to use TensorFlow 1.x via the <code>%tensorflow_version 1.x</code> magic:\n",
              "<a href=\"https://colab.research.google.com/notebooks/tensorflow_version.ipynb\" target=\"_blank\">more info</a>.</p>\n"
            ],
            "text/plain": [
              "<IPython.core.display.HTML object>"
            ]
          },
          "metadata": {
            "tags": []
          }
        }
      ]
    },
    {
      "cell_type": "markdown",
      "metadata": {
        "id": "xWkUAauzqOZW",
        "colab_type": "text"
      },
      "source": [
        "## Data"
      ]
    },
    {
      "cell_type": "code",
      "metadata": {
        "id": "v6e2v7XKjHW1",
        "colab_type": "code",
        "colab": {}
      },
      "source": [
        "#Read Data from Keras\n",
        "from tensorflow import keras\n",
        "(x_train, y_train), (x_test, y_test) = keras.datasets.mnist.load_data()"
      ],
      "execution_count": 0,
      "outputs": []
    },
    {
      "cell_type": "code",
      "metadata": {
        "id": "2jrGIg2vdGE4",
        "colab_type": "code",
        "colab": {
          "base_uri": "https://localhost:8080/",
          "height": 51
        },
        "outputId": "92809629-8425-44c5-c3ad-287325b95e40"
      },
      "source": [
        "print(\"x_train data: \", x_train.shape,\"y_train data:\", y_train.shape)\n",
        "print(\"x_test data: \", x_test.shape,\"y_test data:\", y_test.shape)"
      ],
      "execution_count": 3,
      "outputs": [
        {
          "output_type": "stream",
          "text": [
            "x_train data:  (60000, 28, 28) y_train data: (60000,)\n",
            "x_test data:  (10000, 28, 28) y_test data: (10000,)\n"
          ],
          "name": "stdout"
        }
      ]
    },
    {
      "cell_type": "code",
      "metadata": {
        "id": "XmtMJYiubErB",
        "colab_type": "code",
        "colab": {}
      },
      "source": [
        "# Preprocess the data (these are Numpy arrays)\n",
        "x_train = x_train.reshape(-1, 784).astype('float32') / 255.\n",
        "x_test = x_test.reshape(-1, 784).astype('float32') / 255.\n",
        "\n",
        "y_train = y_train.astype('float32')\n",
        "y_test = y_test.astype('float32')"
      ],
      "execution_count": 0,
      "outputs": []
    },
    {
      "cell_type": "markdown",
      "metadata": {
        "id": "DxjQG9NsqSg1",
        "colab_type": "text"
      },
      "source": [
        "##Build Model"
      ]
    },
    {
      "cell_type": "code",
      "metadata": {
        "id": "P8CB5f21hDfJ",
        "colab_type": "code",
        "outputId": "d130016a-65c4-422a-c965-5504ad97bf5d",
        "colab": {
          "base_uri": "https://localhost:8080/",
          "height": 326
        }
      },
      "source": [
        "model = tf.keras.Sequential()\n",
        "model.add(layers.Dense(64, activation='relu', input_shape=x_train.shape[1:]))\n",
        "model.add(layers.Dense(128, activation=tf.nn.relu))\n",
        "model.add(layers.Dense(10))\n",
        "\n",
        "model.summary()\n",
        "\n",
        "#model = tf.keras.Sequential([layers.Dense(64,activation='relu',input_shape=(784,)),layers.Dense(64,activation='relu'),layers.Dense(10)])\n",
        "\n",
        "#------------------Build complex models----------------------\n",
        "#inputs = tf.keras.Input(shape=(32,))  # Returns an input placeholder\n",
        "\n",
        "## A layer instance is callable on a tensor, and returns a tensor.\n",
        "#x = layers.Dense(64, activation='relu')(inputs)\n",
        "#x = layers.Dense(64, activation='relu')(x)\n",
        "#predictions = layers.Dense(10)(x)\n",
        "#model = tf.keras.Model(inputs=inputs, outputs=predictions)"
      ],
      "execution_count": 5,
      "outputs": [
        {
          "output_type": "stream",
          "text": [
            "WARNING:tensorflow:From /tensorflow-1.15.0/python3.6/tensorflow_core/python/ops/resource_variable_ops.py:1630: calling BaseResourceVariable.__init__ (from tensorflow.python.ops.resource_variable_ops) with constraint is deprecated and will be removed in a future version.\n",
            "Instructions for updating:\n",
            "If using Keras pass *_constraint arguments to layers.\n",
            "Model: \"sequential\"\n",
            "_________________________________________________________________\n",
            "Layer (type)                 Output Shape              Param #   \n",
            "=================================================================\n",
            "dense (Dense)                (None, 64)                50240     \n",
            "_________________________________________________________________\n",
            "dense_1 (Dense)              (None, 128)               8320      \n",
            "_________________________________________________________________\n",
            "dense_2 (Dense)              (None, 10)                1290      \n",
            "=================================================================\n",
            "Total params: 59,850\n",
            "Trainable params: 59,850\n",
            "Non-trainable params: 0\n",
            "_________________________________________________________________\n"
          ],
          "name": "stdout"
        }
      ]
    },
    {
      "cell_type": "markdown",
      "metadata": {
        "id": "eC8fF9HJqd4t",
        "colab_type": "text"
      },
      "source": [
        "# Train : Compile & Evaluate - Fit  "
      ]
    },
    {
      "cell_type": "code",
      "metadata": {
        "id": "gDTQujNbiNeJ",
        "colab_type": "code",
        "colab": {}
      },
      "source": [
        "model.compile(optimizer=keras.optimizers.RMSprop(learning_rate=1e-3),            #optimizer=tf.keras.optimizers.Adam(0.01), \n",
        "              loss=keras.losses.SparseCategoricalCrossentropy(from_logits=True), #loss=tf.keras.losses.BinaryCrossentropy(from_logits=True), \n",
        "              metrics=['accuracy'])  #Other Parameter : loss_weights, sample_weight_mode, weighted_metrics, target_tensors, distribute"
      ],
      "execution_count": 0,
      "outputs": []
    },
    {
      "cell_type": "code",
      "metadata": {
        "id": "wCXPy9xPw-mw",
        "colab_type": "code",
        "colab": {}
      },
      "source": [
        "#tensorboard_cbk = keras.callbacks.TensorBoard(log_dir='/full_path_to_your_logs')\n",
        "#model.fit(dataset, epochs=10, callbacks=[tensorboard_cbk])"
      ],
      "execution_count": 0,
      "outputs": []
    },
    {
      "cell_type": "code",
      "metadata": {
        "id": "x0Xx6UdAjQ_5",
        "colab_type": "code",
        "outputId": "075715d5-0157-4117-b020-bceb39e0c201",
        "colab": {
          "base_uri": "https://localhost:8080/",
          "height": 136
        }
      },
      "source": [
        "history = model.fit(x_train, y_train, epochs=3, batch_size=64, validation_split=0.2 ) \n",
        "#Other parameter : verbose, callbacks, huffle, class_weight, sample_weight, initial_epoch, steps_per_epoch, validation_steps, validation_freq...             \n",
        "\n",
        "## Instantiates a toy dataset instance:\n",
        "#dataset = tf.data.Dataset.from_tensor_slices((data, labels))\n",
        "#dataset = dataset.batch(32)\n",
        "\n",
        "#val_dataset = tf.data.Dataset.from_tensor_slices((val_data, val_labels))\n",
        "#val_dataset = val_dataset.batch(32)\n",
        "\n",
        "#model.fit(dataset, epochs=10, validation_data=val_dataset)"
      ],
      "execution_count": 8,
      "outputs": [
        {
          "output_type": "stream",
          "text": [
            "Train on 48000 samples, validate on 12000 samples\n",
            "Epoch 1/3\n",
            "48000/48000 [==============================] - 2s 46us/sample - loss: 0.3255 - acc: 0.9049 - val_loss: 0.1745 - val_acc: 0.9487\n",
            "Epoch 2/3\n",
            "48000/48000 [==============================] - 2s 43us/sample - loss: 0.1491 - acc: 0.9554 - val_loss: 0.1369 - val_acc: 0.9607\n",
            "Epoch 3/3\n",
            "48000/48000 [==============================] - 2s 43us/sample - loss: 0.1083 - acc: 0.9672 - val_loss: 0.1137 - val_acc: 0.9663\n"
          ],
          "name": "stdout"
        }
      ]
    },
    {
      "cell_type": "code",
      "metadata": {
        "id": "Y4hvHAAqcBIh",
        "colab_type": "code",
        "colab": {
          "base_uri": "https://localhost:8080/",
          "height": 573
        },
        "outputId": "cc00376a-537a-438c-a1e3-eda3e7a0ac7d"
      },
      "source": [
        "# Plot training & validation accuracy values\n",
        "plt.plot(history.history['acc'])\n",
        "plt.plot(history.history['val_acc'])\n",
        "plt.title('Model accuracy')\n",
        "plt.ylabel('Accuracy')\n",
        "plt.xlabel('Epoch')\n",
        "plt.legend(['Train', 'Test'], loc='upper left')\n",
        "plt.show()\n",
        "\n",
        "# Plot training & validation loss values\n",
        "plt.plot(history.history['loss'])\n",
        "plt.plot(history.history['val_loss'])\n",
        "plt.title('Model loss')\n",
        "plt.ylabel('Loss')\n",
        "plt.xlabel('Epoch')\n",
        "plt.legend(['Train', 'Test'], loc='upper left')\n",
        "plt.show()"
      ],
      "execution_count": 9,
      "outputs": [
        {
          "output_type": "display_data",
          "data": {
            "image/png": "[encoded data removed]",
            "text/plain": [
              "<Figure size 432x288 with 1 Axes>"
            ]
          },
          "metadata": {
            "tags": []
          }
        },
        {
          "output_type": "display_data",
          "data": {
            "image/png": "[encoded data removed]",
            "text/plain": [
              "<Figure size 432x288 with 1 Axes>"
            ]
          },
          "metadata": {
            "tags": []
          }
        }
      ]
    },
    {
      "cell_type": "markdown",
      "metadata": {
        "id": "VTUaPztVd4OS",
        "colab_type": "text"
      },
      "source": [
        "## Predict"
      ]
    },
    {
      "cell_type": "code",
      "metadata": {
        "id": "gCVmSPAClGk9",
        "colab_type": "code",
        "outputId": "40fc1e3b-410c-4a51-fd45-2c13f21ee2ea",
        "colab": {
          "base_uri": "https://localhost:8080/",
          "height": 85
        }
      },
      "source": [
        "pred_data = x_test[1:2,:]\n",
        "pred_label = y_test[1:2,]\n",
        "result = model.predict(pred_data) #Other parameter : verbose, steps, callbacks, max_queue_size,workers, use_multiprocessing\n",
        "print(\"Input : \", pred_data.shape, \"Predict Resutl: \",result.shape)\n",
        "print(\"Result: \", result)\n",
        "print(\"Label : \", pred_label)\n"
      ],
      "execution_count": 10,
      "outputs": [
        {
          "output_type": "stream",
          "text": [
            "Input :  (1, 784) Predict Resutl:  (1, 10)\n",
            "Result:  [[ -8.771637    0.4305945   9.698702   -2.1625447 -18.461334   -7.4540963\n",
            "   -5.612652  -12.549255   -2.6262667 -20.661736 ]]\n",
            "Label :  [2.]\n"
          ],
          "name": "stdout"
        }
      ]
    },
    {
      "cell_type": "code",
      "metadata": {
        "id": "pL9pS3QWzGv0",
        "colab_type": "code",
        "outputId": "e379aadb-62e7-4e91-8cf5-e164e6d2bb85",
        "colab": {
          "base_uri": "https://localhost:8080/",
          "height": 265
        }
      },
      "source": [
        "pixels = pred_data\n",
        "#pixels = np.array(pixels, dtype='uint8')\n",
        "pixels = pixels.reshape((28, 28))\n",
        "plt.imshow(pixels, cmap='gray')\n",
        "plt.show()"
      ],
      "execution_count": 11,
      "outputs": [
        {
          "output_type": "display_data",
          "data": {
            "image/png": "[encoded data removed]",
            "text/plain": [
              "<Figure size 432x288 with 1 Axes>"
            ]
          },
          "metadata": {
            "tags": []
          }
        }
      ]
    },
    {
      "cell_type": "markdown",
      "metadata": {
        "id": "vFo2N8RDpCRh",
        "colab_type": "text"
      },
      "source": [
        "##Save the model and Load the model"
      ]
    },
    {
      "cell_type": "code",
      "metadata": {
        "id": "kgxd6JYulYeX",
        "colab_type": "code",
        "colab": {}
      },
      "source": [
        "## Mount Google drive before save the model\n",
        "#from google.colab import drive\n",
        "#drive.mount('/content/drive/')\n",
        "\n",
        "## Save weights to a TensorFlow Checkpoint file\n",
        "#DATA_PATH = \"/content/drive/My Drive/Colab Notebooks/\"\n",
        "#model.save(DATA_PATH+\"256_CNN.model\")\n",
        "\n",
        "## Load the Model\n",
        "#model = tf.keras.models.load_model(DATA_PATH+\"256_CNN.model\")"
      ],
      "execution_count": 0,
      "outputs": []
    }
  ]
}